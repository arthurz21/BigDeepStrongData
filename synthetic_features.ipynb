{
 "cells": [
  {
   "cell_type": "code",
   "execution_count": null,
   "metadata": {},
   "outputs": [],
   "source": [
    "from transaction_volume_and_frequency import *"
   ]
  },
  {
   "cell_type": "code",
   "execution_count": null,
   "metadata": {},
   "outputs": [],
   "source": [
    "#Transaction Volume and Frequency\n",
    "customers = dict()\n",
    "synth_data_path = 'synth_datasets/processed/'\n",
    "files = os.listdir(synth_data_path)\n",
    "print(files)"
   ]
  },
  {
   "cell_type": "code",
   "execution_count": null,
   "metadata": {},
   "outputs": [],
   "source": [
    "#Calculating transaction volume and frequency for IBM synthetic data\n",
    "for file in files:\n",
    "    if file not in ['card_s.csv', 'cheque.csv', 'ach_s.csv', 'wire.csv']:\n",
    "        continue\n",
    "    data = pd.read_csv(file)\n",
    "    \n",
    "    # Because all the credited transactions are negative in the card.csv file \n",
    "    # But all the other type of transactions are positive for both credited and debited transactions. \n",
    "    # if file == 'card_s.csv': \n",
    "    #     data['amount_cad'] = data['amount_cad'].abs() \n",
    "    transaction_type = file.split('.')[0].split('_')[0]\n",
    "    for _, transaction in data.iterrows():\n",
    "        transaction = transaction.values\n",
    "        account_idx = 2\n",
    "        if transaction[account_idx] not in customers.keys():\n",
    "            cur_customer = Customer(transaction[1])\n",
    "            cur_customer.add_transaction(transaction_type, transaction) \n",
    "            customers[transaction[1]] = cur_customer\n",
    "        else:\n",
    "            cur_customer = customers[transaction[1]]\n",
    "            cur_customer.add_transaction(transaction_type, transaction) \n",
    "            customers[transaction[1]] = cur_customer\n",
    "\n",
    "customer_data = []\n",
    "for customer in customers.keys():\n",
    "    customers[customer].transaction_freq()\n",
    "    customers[customer].transaction_amounts()        \n",
    "    customer_data.append(customers[customer].get_feature_vector())\n",
    "\n",
    "columns = get_header()\n",
    "\n",
    "df = pd.DataFrame(customer_data, columns=columns)\n",
    "\n",
    "pd.DataFrame.to_csv(df,'Transaction Volume and Frequency.csv')"
   ]
  }
 ],
 "metadata": {
  "kernelspec": {
   "display_name": ".venv",
   "language": "python",
   "name": "python3"
  },
  "language_info": {
   "name": "python",
   "version": "3.12.6"
  }
 },
 "nbformat": 4,
 "nbformat_minor": 2
}

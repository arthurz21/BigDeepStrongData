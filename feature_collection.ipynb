{
 "cells": [
  {
   "cell_type": "code",
   "execution_count": 18,
   "metadata": {},
   "outputs": [],
   "source": [
    "import pandas as pd\n",
    "import numpy as np\n",
    "import matplotlib.pyplot as plt\n"
   ]
  },
  {
   "cell_type": "code",
   "execution_count": 19,
   "metadata": {},
   "outputs": [],
   "source": [
    "#Cash Indicator Ratio\n",
    "cash_ind_ratio = pd.read_excel('features/Cash_Indicator_Ratio/abm_ratio_analysis.xlsx')\n",
    "\n",
    "#Debit Credit Ratio\n",
    "debit_credit_ratio = pd.read_csv('features/Debit_Credit_Ratio/credit_debit_ratio.csv')\n",
    "\n",
    "#High Risk Transaction Flag\n",
    "high_risk_flag = pd.read_csv('features/HighRiskTransactionFlag/customer_high_value_summary.csv')\n",
    "\n",
    "#customer city summary\n",
    "customer_city_summary = pd.read_csv('features/section3/customer_city_summary.csv')\n",
    "\n",
    "# Transaction Volume and Frequency\n",
    "transaction_volume_freq = pd.read_csv('Transaction Volume and Frequency.csv')\n",
    "\n",
    "#features 4 and 5\n",
    "features_4_5 = pd.read_csv('features_4_5.csv')\n"
   ]
  },
  {
   "cell_type": "code",
   "execution_count": 20,
   "metadata": {},
   "outputs": [
    {
     "name": "stdout",
     "output_type": "stream",
     "text": [
      "Total unique customers in cash indicator ratio: 16226\n",
      "Total unique customers in debit credit ratio: 16226\n",
      "Total unique customers in high risk flag: 16128\n",
      "Total unique customers in customer city summary: 9805\n",
      "Total unique customers in transaction volume and frequency: 16226\n",
      "Total unique customers in features 4 and 5: 16226\n"
     ]
    }
   ],
   "source": [
    "# Total unique customers\n",
    "print(f\"Total unique customers in cash indicator ratio: {len(cash_ind_ratio)}\")\n",
    "print(f\"Total unique customers in debit credit ratio: {len(debit_credit_ratio)}\")\n",
    "print(f\"Total unique customers in high risk flag: {len(high_risk_flag)}\")\n",
    "print(f\"Total unique customers in customer city summary: {len(customer_city_summary)}\")\n",
    "print(f\"Total unique customers in transaction volume and frequency: {len(transaction_volume_freq)}\")\n",
    "print(f\"Total unique customers in features 4 and 5: {len(features_4_5)}\")\n"
   ]
  },
  {
   "cell_type": "code",
   "execution_count": 21,
   "metadata": {},
   "outputs": [
    {
     "name": "stdout",
     "output_type": "stream",
     "text": [
      "Total features in cash indicator ratio:  3\n",
      "Total features in debit credit ratio:  2\n",
      "Total features in high risk flag:  7\n",
      "Total features in customer city summary:  2\n",
      "Total features in transaction volume and frequency:  44\n",
      "Total features in features 4 and 5:  30\n"
     ]
    }
   ],
   "source": [
    "print(\"Total features in cash indicator ratio: \", len(cash_ind_ratio.columns))\n",
    "print(\"Total features in debit credit ratio: \", len(debit_credit_ratio.columns))\n",
    "print(\"Total features in high risk flag: \", len(high_risk_flag.columns))\n",
    "print(\"Total features in customer city summary: \", len(customer_city_summary.columns))\n",
    "print(\"Total features in transaction volume and frequency: \", len(transaction_volume_freq.columns))\n",
    "print(\"Total features in features 4 and 5: \", len(features_4_5.columns))"
   ]
  }
 ],
 "metadata": {
  "kernelspec": {
   "display_name": ".venv",
   "language": "python",
   "name": "python3"
  },
  "language_info": {
   "codemirror_mode": {
    "name": "ipython",
    "version": 3
   },
   "file_extension": ".py",
   "mimetype": "text/x-python",
   "name": "python",
   "nbconvert_exporter": "python",
   "pygments_lexer": "ipython3",
   "version": "3.12.6"
  }
 },
 "nbformat": 4,
 "nbformat_minor": 2
}

{
 "cells": [
  {
   "cell_type": "code",
   "execution_count": 186,
   "metadata": {},
   "outputs": [],
   "source": [
    "import pandas as pd\n",
    "import numpy as np\n",
    "import matplotlib.pyplot as plt\n"
   ]
  },
  {
   "cell_type": "code",
   "execution_count": 187,
   "metadata": {},
   "outputs": [],
   "source": [
    "#Cash Indicator Ratio\n",
    "cash_ind_ratio = pd.read_excel('features/Cash_Indicator_Ratio/abm_ratio_analysis.xlsx')\n",
    "\n",
    "#Debit Credit Ratio\n",
    "debit_credit_ratio = pd.read_csv('features/Debit_Credit_Ratio/credit_debit_ratio.csv')\n",
    "\n",
    "#High Risk Transaction Flag\n",
    "high_risk_flag = pd.read_csv('features/HighRiskTransactionFlag/customer_high_value_summary.csv')\n",
    "\n",
    "#customer city summary\n",
    "customer_city_summary = pd.read_csv('features/section3/updated_city_summary.csv')\n",
    "\n",
    "# Transaction Volume and Frequency\n",
    "transaction_volume_freq = pd.read_csv('Transaction Volume and Frequency.csv')\n",
    "\n",
    "#features 4 and 5\n",
    "features_4_5 = pd.read_csv('features_4_5.csv')\n"
   ]
  },
  {
   "cell_type": "code",
   "execution_count": 188,
   "metadata": {},
   "outputs": [],
   "source": [
    "transaction_volume_freq.drop(columns= ['Unnamed: 0'], axis=1, inplace=True)"
   ]
  },
  {
   "cell_type": "code",
   "execution_count": 189,
   "metadata": {},
   "outputs": [],
   "source": [
    "transaction_volume_freq.rename(columns = {'customer ID':'customer_id'}, inplace = True)"
   ]
  },
  {
   "cell_type": "code",
   "execution_count": 190,
   "metadata": {},
   "outputs": [],
   "source": [
    "# features = {\n",
    "#     'cash_indicator_ratio': cash_ind_ratio,\n",
    "#     'debit_credit_ratio': debit_credit_ratio,\n",
    "#     'high_risk_flag': high_risk_flag,\n",
    "#     'customer_city_summary': customer_city_summary,\n",
    "#     'transaction_volume_freq': transaction_volume_freq,\n",
    "#     'features_4_5': features_4_5\n",
    "# }\n",
    "\n",
    "# for key, value in features.items():\n",
    "#     value = value.sort_values('customer_id')\n",
    "\n",
    "cash_ind_ratio = cash_ind_ratio.sort_values('customer_id')\n",
    "cash_ind_ratio.reset_index(drop = True, inplace = True)\n",
    "\n",
    "debit_credit_ratio = debit_credit_ratio.sort_values('customer_id')\n",
    "debit_credit_ratio.reset_index(drop = True, inplace = True)\n",
    "\n",
    "high_risk_flag = high_risk_flag.sort_values('customer_id')\n",
    "high_risk_flag.reset_index(drop = True, inplace = True)\n",
    "\n",
    "customer_city_summary = customer_city_summary.sort_values('customer_id')\n",
    "customer_city_summary.reset_index(drop = True, inplace = True)\n",
    "\n",
    "transaction_volume_freq = transaction_volume_freq.sort_values('customer_id')\n",
    "transaction_volume_freq.reset_index(drop = True, inplace = True)\n",
    "\n",
    "features_4_5 = features_4_5.sort_values('customer_id')\n",
    "features_4_5.reset_index(drop = True, inplace = True)\n"
   ]
  },
  {
   "cell_type": "code",
   "execution_count": 191,
   "metadata": {},
   "outputs": [
    {
     "name": "stdout",
     "output_type": "stream",
     "text": [
      "Total unique customers in cash indicator ratio: 16226\n",
      "Total unique customers in debit credit ratio: 16226\n",
      "Total unique customers in high risk flag: 16226\n",
      "Total unique customers in customer city summary: 16226\n",
      "Total unique customers in transaction volume and frequency: 16226\n",
      "Total unique customers in features 4 and 5: 16226\n"
     ]
    }
   ],
   "source": [
    "# Total unique customers\n",
    "print(f\"Total unique customers in cash indicator ratio: {len(cash_ind_ratio)}\")\n",
    "print(f\"Total unique customers in debit credit ratio: {len(debit_credit_ratio)}\")\n",
    "print(f\"Total unique customers in high risk flag: {len(high_risk_flag)}\")\n",
    "print(f\"Total unique customers in customer city summary: {len(customer_city_summary)}\")\n",
    "print(f\"Total unique customers in transaction volume and frequency: {len(transaction_volume_freq)}\")\n",
    "print(f\"Total unique customers in features 4 and 5: {len(features_4_5)}\")\n"
   ]
  },
  {
   "cell_type": "code",
   "execution_count": 192,
   "metadata": {},
   "outputs": [
    {
     "name": "stdout",
     "output_type": "stream",
     "text": [
      "Total features in cash indicator ratio:  3\n",
      "Total features in debit credit ratio:  3\n",
      "Total features in high risk flag:  7\n",
      "Total features in customer city summary:  2\n",
      "Total features in transaction volume and frequency:  43\n",
      "Total features in features 4 and 5:  54\n"
     ]
    }
   ],
   "source": [
    "print(\"Total features in cash indicator ratio: \", len(cash_ind_ratio.columns))\n",
    "print(\"Total features in debit credit ratio: \", len(debit_credit_ratio.columns))\n",
    "print(\"Total features in high risk flag: \", len(high_risk_flag.columns))\n",
    "print(\"Total features in customer city summary: \", len(customer_city_summary.columns))\n",
    "print(\"Total features in transaction volume and frequency: \", len(transaction_volume_freq.columns))\n",
    "print(\"Total features in features 4 and 5: \", len(features_4_5.columns))"
   ]
  },
  {
   "cell_type": "code",
   "execution_count": 193,
   "metadata": {},
   "outputs": [],
   "source": [
    "features = {\n",
    "    'cash_indicator_ratio': cash_ind_ratio,\n",
    "    'debit_credit_ratio': debit_credit_ratio,\n",
    "    'high_risk_flag': high_risk_flag,\n",
    "    'customer_city_summary': customer_city_summary,\n",
    "    'transaction_volume_freq': transaction_volume_freq,\n",
    "    'features_4_5': features_4_5\n",
    "}\n",
    "\n",
    "customer_ID = cash_ind_ratio['customer_id']\n",
    "\n",
    "for key, value in features.items():\n",
    "    for i, customer in enumerate(customer_ID):\n",
    "        if customer != value['customer_id'][i]:\n",
    "            print(f\"Customer {customer} is not present in {key}\")\n",
    "            break"
   ]
  },
  {
   "cell_type": "code",
   "execution_count": 194,
   "metadata": {},
   "outputs": [
    {
     "name": "stdout",
     "output_type": "stream",
     "text": [
      "Stats for cash_indicator_ratio\n",
      "<class 'pandas.core.frame.DataFrame'>\n",
      "RangeIndex: 16226 entries, 0 to 16225\n",
      "Data columns (total 3 columns):\n",
      " #   Column            Non-Null Count  Dtype  \n",
      "---  ------            --------------  -----  \n",
      " 0   customer_id       16226 non-null  object \n",
      " 1   abm_count_ratio   16226 non-null  float64\n",
      " 2   abm_amount_ratio  16226 non-null  float64\n",
      "dtypes: float64(2), object(1)\n",
      "memory usage: 380.4+ KB\n",
      "None\n",
      "\n",
      "\n",
      "\n",
      "Stats for debit_credit_ratio\n",
      "<class 'pandas.core.frame.DataFrame'>\n",
      "RangeIndex: 16226 entries, 0 to 16225\n",
      "Data columns (total 3 columns):\n",
      " #   Column                     Non-Null Count  Dtype  \n",
      "---  ------                     --------------  -----  \n",
      " 0   customer_id                16226 non-null  object \n",
      " 1   credit_total_amount_ratio  16226 non-null  float64\n",
      " 2   debit_total_amount_ratio   16226 non-null  float64\n",
      "dtypes: float64(2), object(1)\n",
      "memory usage: 380.4+ KB\n",
      "None\n",
      "\n",
      "\n",
      "\n",
      "Stats for high_risk_flag\n",
      "<class 'pandas.core.frame.DataFrame'>\n",
      "RangeIndex: 16226 entries, 0 to 16225\n",
      "Data columns (total 7 columns):\n",
      " #   Column                   Non-Null Count  Dtype  \n",
      "---  ------                   --------------  -----  \n",
      " 0   customer_id              16226 non-null  object \n",
      " 1   abm_high_value_count     16226 non-null  float64\n",
      " 2   emt_high_value_count     16226 non-null  float64\n",
      " 3   card_high_value_count    16226 non-null  float64\n",
      " 4   wire_high_value_count    16226 non-null  float64\n",
      " 5   eft_high_value_count     16226 non-null  float64\n",
      " 6   cheque_high_value_count  16226 non-null  float64\n",
      "dtypes: float64(6), object(1)\n",
      "memory usage: 887.5+ KB\n",
      "None\n",
      "\n",
      "\n",
      "\n",
      "Stats for customer_city_summary\n",
      "<class 'pandas.core.frame.DataFrame'>\n",
      "RangeIndex: 16226 entries, 0 to 16225\n",
      "Data columns (total 2 columns):\n",
      " #   Column         Non-Null Count  Dtype \n",
      "---  ------         --------------  ----- \n",
      " 0   customer_id    16226 non-null  object\n",
      " 1   unique_cities  16226 non-null  int64 \n",
      "dtypes: int64(1), object(1)\n",
      "memory usage: 253.7+ KB\n",
      "None\n",
      "\n",
      "\n",
      "\n",
      "Stats for transaction_volume_freq\n",
      "<class 'pandas.core.frame.DataFrame'>\n",
      "RangeIndex: 16226 entries, 0 to 16225\n",
      "Data columns (total 43 columns):\n",
      " #   Column                               Non-Null Count  Dtype  \n",
      "---  ------                               --------------  -----  \n",
      " 0   customer_id                          16226 non-null  object \n",
      " 1   abm daily frequency                  16226 non-null  float64\n",
      " 2   abm weekly frequency                 16226 non-null  float64\n",
      " 3   abm monthly frequency                16226 non-null  float64\n",
      " 4   card daily frequency                 16226 non-null  float64\n",
      " 5   card weekly frequency                16226 non-null  float64\n",
      " 6   card monthly frequency               16226 non-null  float64\n",
      " 7   cheque daily frequency               16226 non-null  float64\n",
      " 8   cheque weekly frequency              16226 non-null  float64\n",
      " 9   cheque monthly frequency             16226 non-null  float64\n",
      " 10  eft daily frequency                  16226 non-null  float64\n",
      " 11  eft weekly frequency                 16226 non-null  float64\n",
      " 12  eft monthly frequency                16226 non-null  float64\n",
      " 13  emt daily frequency                  16226 non-null  float64\n",
      " 14  emt weekly frequency                 16226 non-null  float64\n",
      " 15  emt monthly frequency                16226 non-null  float64\n",
      " 16  wire daily frequency                 16226 non-null  float64\n",
      " 17  wire weekly frequency                16226 non-null  float64\n",
      " 18  wire monthly frequency               16226 non-null  float64\n",
      " 19  abm debited transaction average      16226 non-null  float64\n",
      " 20  abm credited transaction average     16226 non-null  float64\n",
      " 21  card debited transaction average     16226 non-null  float64\n",
      " 22  card credited transaction average    16226 non-null  float64\n",
      " 23  cheque debited transaction average   16226 non-null  float64\n",
      " 24  cheque credited transaction average  16226 non-null  float64\n",
      " 25  eft debited transaction average      16226 non-null  float64\n",
      " 26  eft credited transaction average     16226 non-null  float64\n",
      " 27  emt debited transaction average      16226 non-null  float64\n",
      " 28  emt credited transaction average     16226 non-null  float64\n",
      " 29  wire debited transaction average     16226 non-null  float64\n",
      " 30  wire credited transaction average    16226 non-null  float64\n",
      " 31  abm debited transaction std          16226 non-null  float64\n",
      " 32  abm credited transaction std         16226 non-null  float64\n",
      " 33  card debited transaction std         16226 non-null  float64\n",
      " 34  card credited transaction std        16226 non-null  float64\n",
      " 35  cheque debited transaction std       16226 non-null  float64\n",
      " 36  cheque credited transaction std      16226 non-null  float64\n",
      " 37  eft debited transaction std          16226 non-null  float64\n",
      " 38  eft credited transaction std         16226 non-null  float64\n",
      " 39  emt debited transaction std          16226 non-null  float64\n",
      " 40  emt credited transaction std         16226 non-null  float64\n",
      " 41  wire debited transaction std         16226 non-null  float64\n",
      " 42  wire credited transaction std        16226 non-null  float64\n",
      "dtypes: float64(42), object(1)\n",
      "memory usage: 5.3+ MB\n",
      "None\n",
      "\n",
      "\n",
      "\n",
      "Stats for features_4_5\n",
      "<class 'pandas.core.frame.DataFrame'>\n",
      "RangeIndex: 16226 entries, 0 to 16225\n",
      "Data columns (total 54 columns):\n",
      " #   Column                                    Non-Null Count  Dtype  \n",
      "---  ------                                    --------------  -----  \n",
      " 0   customer_id                               16226 non-null  object \n",
      " 1   wire_max_credit_weekly_trx                16226 non-null  float64\n",
      " 2   wire_max_credit_monthly_trx               16226 non-null  float64\n",
      " 3   wire_max_credit_weekely_trx_avg_val       16226 non-null  float64\n",
      " 4   wire_max_credit_monthly_trx_avg_val       16226 non-null  float64\n",
      " 5   wire_max_debit_weekly_trx                 16226 non-null  float64\n",
      " 6   wire_max_debit_monthly_trx                16226 non-null  float64\n",
      " 7   wire_max_debit_weekely_trx_avg_val        16226 non-null  float64\n",
      " 8   wire_max_debit_monthly_trx_avg_val        16226 non-null  float64\n",
      " 9   abm_max_credit_weekly_trx                 16226 non-null  float64\n",
      " 10  abm_max_credit_monthly_trx                16226 non-null  float64\n",
      " 11  abm_max_credit_weekely_trx_avg_val        16226 non-null  float64\n",
      " 12  abm_max_credit_monthly_trx_avg_val        16226 non-null  float64\n",
      " 13  abm_max_debit_weekly_trx                  16226 non-null  float64\n",
      " 14  abm_max_debit_monthly_trx                 16226 non-null  float64\n",
      " 15  abm_max_debit_weekely_trx_avg_val         16226 non-null  float64\n",
      " 16  abm_max_debit_monthly_trx_avg_val         16226 non-null  float64\n",
      " 17  abm_cash_activity                         16226 non-null  float64\n",
      " 18  cheque_max_credit_weekly_trx              16226 non-null  float64\n",
      " 19  cheque_max_credit_monthly_trx             16226 non-null  float64\n",
      " 20  cheque_max_credit_weekely_trx_avg_val     16226 non-null  float64\n",
      " 21  cheque_max_credit_monthly_trx_avg_val     16226 non-null  float64\n",
      " 22  cheque_max_debit_weekly_trx               16226 non-null  float64\n",
      " 23  cheque_max_debit_monthly_trx              16226 non-null  float64\n",
      " 24  cheque_max_debit_weekely_trx_avg_val      16226 non-null  float64\n",
      " 25  cheque_max_debit_monthly_trx_avg_val      16226 non-null  float64\n",
      " 26  eft_max_credit_weekly_trx                 16226 non-null  float64\n",
      " 27  eft_max_credit_weekely_trx_avg_val        16226 non-null  float64\n",
      " 28  eft_max_debit_weekly_trx                  16226 non-null  float64\n",
      " 29  eft_max_debit_weekely_trx_avg_val         16226 non-null  float64\n",
      " 30  eft_max_credit_monthly_trx                16226 non-null  float64\n",
      " 31  eft_max_credit_monthly_trx_avg_val        16226 non-null  float64\n",
      " 32  eft_max_debit_monthly_trx                 16226 non-null  float64\n",
      " 33  eft_max_debit_monthly_trx_avg_val         16226 non-null  float64\n",
      " 34  emt_max_credit_weekly_trx                 16226 non-null  float64\n",
      " 35  emt_max_credit_weekely_trx_avg_val        16226 non-null  float64\n",
      " 36  emt_max_debit_weekly_trx                  16226 non-null  float64\n",
      " 37  emt_max_debit_weekely_trx_avg_val         16226 non-null  float64\n",
      " 38  emt_max_credit_monthly_trx                16226 non-null  float64\n",
      " 39  emt_max_credit_monthly_trx_avg_val        16226 non-null  float64\n",
      " 40  emt_max_debit_monthly_trx                 16226 non-null  float64\n",
      " 41  emt_max_debit_monthly_trx_avg_val         16226 non-null  float64\n",
      " 42  card_merchant_categories                  16226 non-null  float64\n",
      " 43  card_max_credit_weekly_trx                16226 non-null  float64\n",
      " 44  card_max_credit_weekely_trx_avg_val       16226 non-null  float64\n",
      " 45  card_max_debit_weekly_trx                 16226 non-null  float64\n",
      " 46  card_max_debit_weekely_trx_avg_val        16226 non-null  float64\n",
      " 47  card_merchant_category_dissimilarity      16226 non-null  float64\n",
      " 48  card_merchant_category_dissimilarity_std  16226 non-null  float64\n",
      " 49  card_max_credit_monthly_trx               16226 non-null  float64\n",
      " 50  card_max_credit_monthly_trx_avg_val       16226 non-null  float64\n",
      " 51  card_max_debit_monthly_trx                16226 non-null  float64\n",
      " 52  card_max_debit_monthly_trx_avg_val        16226 non-null  float64\n",
      " 53  card_ecommerce_activity                   16226 non-null  float64\n",
      "dtypes: float64(53), object(1)\n",
      "memory usage: 6.7+ MB\n",
      "None\n",
      "\n",
      "\n",
      "\n"
     ]
    }
   ],
   "source": [
    "for key, value in features.items():\n",
    "    print(f\"Stats for {key}\")\n",
    "    print(value.info())\n",
    "    print(\"\\n\\n\")"
   ]
  },
  {
   "cell_type": "code",
   "execution_count": 195,
   "metadata": {},
   "outputs": [
    {
     "name": "stdout",
     "output_type": "stream",
     "text": [
      "(16226, 107)\n"
     ]
    }
   ],
   "source": [
    "combined_df = pd.concat([cash_ind_ratio, debit_credit_ratio.drop(columns=['customer_id']), high_risk_flag.drop(columns=['customer_id']), customer_city_summary.drop(columns=['customer_id']), transaction_volume_freq.drop(columns=['customer_id']), features_4_5.drop(columns=['customer_id'])], axis=1)\n",
    "print(combined_df.shape)\n"
   ]
  },
  {
   "cell_type": "code",
   "execution_count": 196,
   "metadata": {},
   "outputs": [],
   "source": [
    "feature_stats = combined_df.describe(percentiles=[0.2, 0.4, 0.6, 0.8, 0.9, 0.95, 0.99, 0.999, .9999, 0.99999, 0.999999]).loc[['count', 'mean', 'min', 'max', '20%', '40%', '60%', '80%', '90%', '95%', '99%', '99.9%', '99.99%', '99.999%', '99.9999%']].transpose()"
   ]
  },
  {
   "cell_type": "code",
   "execution_count": 197,
   "metadata": {},
   "outputs": [],
   "source": [
    "wire = pd.read_csv('raw_data/wire.csv')\n",
    "\n",
    "debit_txs = wire[(wire['debit_credit'] == 'debit') & (wire['customer_id'] == 'SYNCID0000005779')]"
   ]
  },
  {
   "cell_type": "code",
   "execution_count": 198,
   "metadata": {},
   "outputs": [
    {
     "name": "stdout",
     "output_type": "stream",
     "text": [
      "4250479.797582405\n"
     ]
    }
   ],
   "source": [
    "print((debit_txs['amount_cad'].std()))"
   ]
  },
  {
   "cell_type": "code",
   "execution_count": 199,
   "metadata": {},
   "outputs": [
    {
     "ename": "FileNotFoundError",
     "evalue": "[Errno 2] No such file or directory: 'features/HighRiskTransactionFlag/updated_customer_high_value_summary.csv'",
     "output_type": "error",
     "traceback": [
      "\u001b[0;31m---------------------------------------------------------------------------\u001b[0m",
      "\u001b[0;31mFileNotFoundError\u001b[0m                         Traceback (most recent call last)",
      "Cell \u001b[0;32mIn[199], line 3\u001b[0m\n\u001b[1;32m      1\u001b[0m highrisk1 \u001b[38;5;241m=\u001b[39m pd\u001b[38;5;241m.\u001b[39mread_csv(\u001b[38;5;124m'\u001b[39m\u001b[38;5;124mfeatures/HighRiskTransactionFlag/customer_high_value_summary.csv\u001b[39m\u001b[38;5;124m'\u001b[39m)\n\u001b[1;32m      2\u001b[0m highrisk1_old \u001b[38;5;241m=\u001b[39m pd\u001b[38;5;241m.\u001b[39mread_csv(\u001b[38;5;124m'\u001b[39m\u001b[38;5;124mfeatures/HighRiskTransactionFlag/old/customer_high_value_summary.csv\u001b[39m\u001b[38;5;124m'\u001b[39m)\n\u001b[0;32m----> 3\u001b[0m highrisk_2 \u001b[38;5;241m=\u001b[39m \u001b[43mpd\u001b[49m\u001b[38;5;241;43m.\u001b[39;49m\u001b[43mread_csv\u001b[49m\u001b[43m(\u001b[49m\u001b[38;5;124;43m'\u001b[39;49m\u001b[38;5;124;43mfeatures/HighRiskTransactionFlag/updated_customer_high_value_summary.csv\u001b[39;49m\u001b[38;5;124;43m'\u001b[39;49m\u001b[43m)\u001b[49m\n",
      "File \u001b[0;32m~/Desktop/Projects/BigDeepStrongData/.venv/lib/python3.12/site-packages/pandas/io/parsers/readers.py:1026\u001b[0m, in \u001b[0;36mread_csv\u001b[0;34m(filepath_or_buffer, sep, delimiter, header, names, index_col, usecols, dtype, engine, converters, true_values, false_values, skipinitialspace, skiprows, skipfooter, nrows, na_values, keep_default_na, na_filter, verbose, skip_blank_lines, parse_dates, infer_datetime_format, keep_date_col, date_parser, date_format, dayfirst, cache_dates, iterator, chunksize, compression, thousands, decimal, lineterminator, quotechar, quoting, doublequote, escapechar, comment, encoding, encoding_errors, dialect, on_bad_lines, delim_whitespace, low_memory, memory_map, float_precision, storage_options, dtype_backend)\u001b[0m\n\u001b[1;32m   1013\u001b[0m kwds_defaults \u001b[38;5;241m=\u001b[39m _refine_defaults_read(\n\u001b[1;32m   1014\u001b[0m     dialect,\n\u001b[1;32m   1015\u001b[0m     delimiter,\n\u001b[0;32m   (...)\u001b[0m\n\u001b[1;32m   1022\u001b[0m     dtype_backend\u001b[38;5;241m=\u001b[39mdtype_backend,\n\u001b[1;32m   1023\u001b[0m )\n\u001b[1;32m   1024\u001b[0m kwds\u001b[38;5;241m.\u001b[39mupdate(kwds_defaults)\n\u001b[0;32m-> 1026\u001b[0m \u001b[38;5;28;01mreturn\u001b[39;00m \u001b[43m_read\u001b[49m\u001b[43m(\u001b[49m\u001b[43mfilepath_or_buffer\u001b[49m\u001b[43m,\u001b[49m\u001b[43m \u001b[49m\u001b[43mkwds\u001b[49m\u001b[43m)\u001b[49m\n",
      "File \u001b[0;32m~/Desktop/Projects/BigDeepStrongData/.venv/lib/python3.12/site-packages/pandas/io/parsers/readers.py:620\u001b[0m, in \u001b[0;36m_read\u001b[0;34m(filepath_or_buffer, kwds)\u001b[0m\n\u001b[1;32m    617\u001b[0m _validate_names(kwds\u001b[38;5;241m.\u001b[39mget(\u001b[38;5;124m\"\u001b[39m\u001b[38;5;124mnames\u001b[39m\u001b[38;5;124m\"\u001b[39m, \u001b[38;5;28;01mNone\u001b[39;00m))\n\u001b[1;32m    619\u001b[0m \u001b[38;5;66;03m# Create the parser.\u001b[39;00m\n\u001b[0;32m--> 620\u001b[0m parser \u001b[38;5;241m=\u001b[39m \u001b[43mTextFileReader\u001b[49m\u001b[43m(\u001b[49m\u001b[43mfilepath_or_buffer\u001b[49m\u001b[43m,\u001b[49m\u001b[43m \u001b[49m\u001b[38;5;241;43m*\u001b[39;49m\u001b[38;5;241;43m*\u001b[39;49m\u001b[43mkwds\u001b[49m\u001b[43m)\u001b[49m\n\u001b[1;32m    622\u001b[0m \u001b[38;5;28;01mif\u001b[39;00m chunksize \u001b[38;5;129;01mor\u001b[39;00m iterator:\n\u001b[1;32m    623\u001b[0m     \u001b[38;5;28;01mreturn\u001b[39;00m parser\n",
      "File \u001b[0;32m~/Desktop/Projects/BigDeepStrongData/.venv/lib/python3.12/site-packages/pandas/io/parsers/readers.py:1620\u001b[0m, in \u001b[0;36mTextFileReader.__init__\u001b[0;34m(self, f, engine, **kwds)\u001b[0m\n\u001b[1;32m   1617\u001b[0m     \u001b[38;5;28mself\u001b[39m\u001b[38;5;241m.\u001b[39moptions[\u001b[38;5;124m\"\u001b[39m\u001b[38;5;124mhas_index_names\u001b[39m\u001b[38;5;124m\"\u001b[39m] \u001b[38;5;241m=\u001b[39m kwds[\u001b[38;5;124m\"\u001b[39m\u001b[38;5;124mhas_index_names\u001b[39m\u001b[38;5;124m\"\u001b[39m]\n\u001b[1;32m   1619\u001b[0m \u001b[38;5;28mself\u001b[39m\u001b[38;5;241m.\u001b[39mhandles: IOHandles \u001b[38;5;241m|\u001b[39m \u001b[38;5;28;01mNone\u001b[39;00m \u001b[38;5;241m=\u001b[39m \u001b[38;5;28;01mNone\u001b[39;00m\n\u001b[0;32m-> 1620\u001b[0m \u001b[38;5;28mself\u001b[39m\u001b[38;5;241m.\u001b[39m_engine \u001b[38;5;241m=\u001b[39m \u001b[38;5;28;43mself\u001b[39;49m\u001b[38;5;241;43m.\u001b[39;49m\u001b[43m_make_engine\u001b[49m\u001b[43m(\u001b[49m\u001b[43mf\u001b[49m\u001b[43m,\u001b[49m\u001b[43m \u001b[49m\u001b[38;5;28;43mself\u001b[39;49m\u001b[38;5;241;43m.\u001b[39;49m\u001b[43mengine\u001b[49m\u001b[43m)\u001b[49m\n",
      "File \u001b[0;32m~/Desktop/Projects/BigDeepStrongData/.venv/lib/python3.12/site-packages/pandas/io/parsers/readers.py:1880\u001b[0m, in \u001b[0;36mTextFileReader._make_engine\u001b[0;34m(self, f, engine)\u001b[0m\n\u001b[1;32m   1878\u001b[0m     \u001b[38;5;28;01mif\u001b[39;00m \u001b[38;5;124m\"\u001b[39m\u001b[38;5;124mb\u001b[39m\u001b[38;5;124m\"\u001b[39m \u001b[38;5;129;01mnot\u001b[39;00m \u001b[38;5;129;01min\u001b[39;00m mode:\n\u001b[1;32m   1879\u001b[0m         mode \u001b[38;5;241m+\u001b[39m\u001b[38;5;241m=\u001b[39m \u001b[38;5;124m\"\u001b[39m\u001b[38;5;124mb\u001b[39m\u001b[38;5;124m\"\u001b[39m\n\u001b[0;32m-> 1880\u001b[0m \u001b[38;5;28mself\u001b[39m\u001b[38;5;241m.\u001b[39mhandles \u001b[38;5;241m=\u001b[39m \u001b[43mget_handle\u001b[49m\u001b[43m(\u001b[49m\n\u001b[1;32m   1881\u001b[0m \u001b[43m    \u001b[49m\u001b[43mf\u001b[49m\u001b[43m,\u001b[49m\n\u001b[1;32m   1882\u001b[0m \u001b[43m    \u001b[49m\u001b[43mmode\u001b[49m\u001b[43m,\u001b[49m\n\u001b[1;32m   1883\u001b[0m \u001b[43m    \u001b[49m\u001b[43mencoding\u001b[49m\u001b[38;5;241;43m=\u001b[39;49m\u001b[38;5;28;43mself\u001b[39;49m\u001b[38;5;241;43m.\u001b[39;49m\u001b[43moptions\u001b[49m\u001b[38;5;241;43m.\u001b[39;49m\u001b[43mget\u001b[49m\u001b[43m(\u001b[49m\u001b[38;5;124;43m\"\u001b[39;49m\u001b[38;5;124;43mencoding\u001b[39;49m\u001b[38;5;124;43m\"\u001b[39;49m\u001b[43m,\u001b[49m\u001b[43m \u001b[49m\u001b[38;5;28;43;01mNone\u001b[39;49;00m\u001b[43m)\u001b[49m\u001b[43m,\u001b[49m\n\u001b[1;32m   1884\u001b[0m \u001b[43m    \u001b[49m\u001b[43mcompression\u001b[49m\u001b[38;5;241;43m=\u001b[39;49m\u001b[38;5;28;43mself\u001b[39;49m\u001b[38;5;241;43m.\u001b[39;49m\u001b[43moptions\u001b[49m\u001b[38;5;241;43m.\u001b[39;49m\u001b[43mget\u001b[49m\u001b[43m(\u001b[49m\u001b[38;5;124;43m\"\u001b[39;49m\u001b[38;5;124;43mcompression\u001b[39;49m\u001b[38;5;124;43m\"\u001b[39;49m\u001b[43m,\u001b[49m\u001b[43m \u001b[49m\u001b[38;5;28;43;01mNone\u001b[39;49;00m\u001b[43m)\u001b[49m\u001b[43m,\u001b[49m\n\u001b[1;32m   1885\u001b[0m \u001b[43m    \u001b[49m\u001b[43mmemory_map\u001b[49m\u001b[38;5;241;43m=\u001b[39;49m\u001b[38;5;28;43mself\u001b[39;49m\u001b[38;5;241;43m.\u001b[39;49m\u001b[43moptions\u001b[49m\u001b[38;5;241;43m.\u001b[39;49m\u001b[43mget\u001b[49m\u001b[43m(\u001b[49m\u001b[38;5;124;43m\"\u001b[39;49m\u001b[38;5;124;43mmemory_map\u001b[39;49m\u001b[38;5;124;43m\"\u001b[39;49m\u001b[43m,\u001b[49m\u001b[43m \u001b[49m\u001b[38;5;28;43;01mFalse\u001b[39;49;00m\u001b[43m)\u001b[49m\u001b[43m,\u001b[49m\n\u001b[1;32m   1886\u001b[0m \u001b[43m    \u001b[49m\u001b[43mis_text\u001b[49m\u001b[38;5;241;43m=\u001b[39;49m\u001b[43mis_text\u001b[49m\u001b[43m,\u001b[49m\n\u001b[1;32m   1887\u001b[0m \u001b[43m    \u001b[49m\u001b[43merrors\u001b[49m\u001b[38;5;241;43m=\u001b[39;49m\u001b[38;5;28;43mself\u001b[39;49m\u001b[38;5;241;43m.\u001b[39;49m\u001b[43moptions\u001b[49m\u001b[38;5;241;43m.\u001b[39;49m\u001b[43mget\u001b[49m\u001b[43m(\u001b[49m\u001b[38;5;124;43m\"\u001b[39;49m\u001b[38;5;124;43mencoding_errors\u001b[39;49m\u001b[38;5;124;43m\"\u001b[39;49m\u001b[43m,\u001b[49m\u001b[43m \u001b[49m\u001b[38;5;124;43m\"\u001b[39;49m\u001b[38;5;124;43mstrict\u001b[39;49m\u001b[38;5;124;43m\"\u001b[39;49m\u001b[43m)\u001b[49m\u001b[43m,\u001b[49m\n\u001b[1;32m   1888\u001b[0m \u001b[43m    \u001b[49m\u001b[43mstorage_options\u001b[49m\u001b[38;5;241;43m=\u001b[39;49m\u001b[38;5;28;43mself\u001b[39;49m\u001b[38;5;241;43m.\u001b[39;49m\u001b[43moptions\u001b[49m\u001b[38;5;241;43m.\u001b[39;49m\u001b[43mget\u001b[49m\u001b[43m(\u001b[49m\u001b[38;5;124;43m\"\u001b[39;49m\u001b[38;5;124;43mstorage_options\u001b[39;49m\u001b[38;5;124;43m\"\u001b[39;49m\u001b[43m,\u001b[49m\u001b[43m \u001b[49m\u001b[38;5;28;43;01mNone\u001b[39;49;00m\u001b[43m)\u001b[49m\u001b[43m,\u001b[49m\n\u001b[1;32m   1889\u001b[0m \u001b[43m\u001b[49m\u001b[43m)\u001b[49m\n\u001b[1;32m   1890\u001b[0m \u001b[38;5;28;01massert\u001b[39;00m \u001b[38;5;28mself\u001b[39m\u001b[38;5;241m.\u001b[39mhandles \u001b[38;5;129;01mis\u001b[39;00m \u001b[38;5;129;01mnot\u001b[39;00m \u001b[38;5;28;01mNone\u001b[39;00m\n\u001b[1;32m   1891\u001b[0m f \u001b[38;5;241m=\u001b[39m \u001b[38;5;28mself\u001b[39m\u001b[38;5;241m.\u001b[39mhandles\u001b[38;5;241m.\u001b[39mhandle\n",
      "File \u001b[0;32m~/Desktop/Projects/BigDeepStrongData/.venv/lib/python3.12/site-packages/pandas/io/common.py:873\u001b[0m, in \u001b[0;36mget_handle\u001b[0;34m(path_or_buf, mode, encoding, compression, memory_map, is_text, errors, storage_options)\u001b[0m\n\u001b[1;32m    868\u001b[0m \u001b[38;5;28;01melif\u001b[39;00m \u001b[38;5;28misinstance\u001b[39m(handle, \u001b[38;5;28mstr\u001b[39m):\n\u001b[1;32m    869\u001b[0m     \u001b[38;5;66;03m# Check whether the filename is to be opened in binary mode.\u001b[39;00m\n\u001b[1;32m    870\u001b[0m     \u001b[38;5;66;03m# Binary mode does not support 'encoding' and 'newline'.\u001b[39;00m\n\u001b[1;32m    871\u001b[0m     \u001b[38;5;28;01mif\u001b[39;00m ioargs\u001b[38;5;241m.\u001b[39mencoding \u001b[38;5;129;01mand\u001b[39;00m \u001b[38;5;124m\"\u001b[39m\u001b[38;5;124mb\u001b[39m\u001b[38;5;124m\"\u001b[39m \u001b[38;5;129;01mnot\u001b[39;00m \u001b[38;5;129;01min\u001b[39;00m ioargs\u001b[38;5;241m.\u001b[39mmode:\n\u001b[1;32m    872\u001b[0m         \u001b[38;5;66;03m# Encoding\u001b[39;00m\n\u001b[0;32m--> 873\u001b[0m         handle \u001b[38;5;241m=\u001b[39m \u001b[38;5;28;43mopen\u001b[39;49m\u001b[43m(\u001b[49m\n\u001b[1;32m    874\u001b[0m \u001b[43m            \u001b[49m\u001b[43mhandle\u001b[49m\u001b[43m,\u001b[49m\n\u001b[1;32m    875\u001b[0m \u001b[43m            \u001b[49m\u001b[43mioargs\u001b[49m\u001b[38;5;241;43m.\u001b[39;49m\u001b[43mmode\u001b[49m\u001b[43m,\u001b[49m\n\u001b[1;32m    876\u001b[0m \u001b[43m            \u001b[49m\u001b[43mencoding\u001b[49m\u001b[38;5;241;43m=\u001b[39;49m\u001b[43mioargs\u001b[49m\u001b[38;5;241;43m.\u001b[39;49m\u001b[43mencoding\u001b[49m\u001b[43m,\u001b[49m\n\u001b[1;32m    877\u001b[0m \u001b[43m            \u001b[49m\u001b[43merrors\u001b[49m\u001b[38;5;241;43m=\u001b[39;49m\u001b[43merrors\u001b[49m\u001b[43m,\u001b[49m\n\u001b[1;32m    878\u001b[0m \u001b[43m            \u001b[49m\u001b[43mnewline\u001b[49m\u001b[38;5;241;43m=\u001b[39;49m\u001b[38;5;124;43m\"\u001b[39;49m\u001b[38;5;124;43m\"\u001b[39;49m\u001b[43m,\u001b[49m\n\u001b[1;32m    879\u001b[0m \u001b[43m        \u001b[49m\u001b[43m)\u001b[49m\n\u001b[1;32m    880\u001b[0m     \u001b[38;5;28;01melse\u001b[39;00m:\n\u001b[1;32m    881\u001b[0m         \u001b[38;5;66;03m# Binary mode\u001b[39;00m\n\u001b[1;32m    882\u001b[0m         handle \u001b[38;5;241m=\u001b[39m \u001b[38;5;28mopen\u001b[39m(handle, ioargs\u001b[38;5;241m.\u001b[39mmode)\n",
      "\u001b[0;31mFileNotFoundError\u001b[0m: [Errno 2] No such file or directory: 'features/HighRiskTransactionFlag/updated_customer_high_value_summary.csv'"
     ]
    }
   ],
   "source": [
    "highrisk1 = pd.read_csv('features/HighRiskTransactionFlag/customer_high_value_summary.csv')\n",
    "highrisk1_old = pd.read_csv('features/HighRiskTransactionFlag/old/customer_high_value_summary.csv')\n",
    "highrisk_2 = pd.read_csv('features/HighRiskTransactionFlag/updated_customer_high_value_summary.csv')"
   ]
  },
  {
   "cell_type": "code",
   "execution_count": null,
   "metadata": {},
   "outputs": [
    {
     "name": "stdout",
     "output_type": "stream",
     "text": [
      "# of customers in highrisk1: 16129\n",
      "# of customers in highrisk1_old: 16128\n",
      "# of customers in highrisk2: 16226\n"
     ]
    }
   ],
   "source": [
    "highrisk1_cust = set(highrisk1['customer_id'].unique())\n",
    "highrisk1_old_cust = set(highrisk1_old['customer_id'].unique())\n",
    "highrisk_2_cust = set(highrisk_2['customer_id'].unique())\n",
    "\n",
    "print(f'# of customers in highrisk1: {len(highrisk1_cust)}')\n",
    "print(f'# of customers in highrisk1_old: {len(highrisk1_old_cust)}')\n",
    "print(f'# of customers in highrisk2: {len(highrisk_2_cust)}')"
   ]
  },
  {
   "cell_type": "code",
   "execution_count": 184,
   "metadata": {},
   "outputs": [
    {
     "data": {
      "text/plain": [
       "{'SYNCID0000000042',\n",
       " 'SYNCID0000000342',\n",
       " 'SYNCID0000000664',\n",
       " 'SYNCID0000001137',\n",
       " 'SYNCID0000001337',\n",
       " 'SYNCID0000001699',\n",
       " 'SYNCID0000001866',\n",
       " 'SYNCID0000001930',\n",
       " 'SYNCID0000002251',\n",
       " 'SYNCID0000002366',\n",
       " 'SYNCID0000002557',\n",
       " 'SYNCID0000002929',\n",
       " 'SYNCID0000002935',\n",
       " 'SYNCID0000003287',\n",
       " 'SYNCID0000003537',\n",
       " 'SYNCID0000003602',\n",
       " 'SYNCID0000003646',\n",
       " 'SYNCID0000003743',\n",
       " 'SYNCID0000003793',\n",
       " 'SYNCID0000004107',\n",
       " 'SYNCID0000004160',\n",
       " 'SYNCID0000004613',\n",
       " 'SYNCID0000004692',\n",
       " 'SYNCID0000004747',\n",
       " 'SYNCID0000004864',\n",
       " 'SYNCID0000004874',\n",
       " 'SYNCID0000004895',\n",
       " 'SYNCID0000004975',\n",
       " 'SYNCID0000005048',\n",
       " 'SYNCID0000005311',\n",
       " 'SYNCID0000005406',\n",
       " 'SYNCID0000005407',\n",
       " 'SYNCID0000005420',\n",
       " 'SYNCID0000005472',\n",
       " 'SYNCID0000005474',\n",
       " 'SYNCID0000005668',\n",
       " 'SYNCID0000005768',\n",
       " 'SYNCID0000005945',\n",
       " 'SYNCID0000006071',\n",
       " 'SYNCID0000006323',\n",
       " 'SYNCID0000006383',\n",
       " 'SYNCID0000006735',\n",
       " 'SYNCID0000006873',\n",
       " 'SYNCID0000006889',\n",
       " 'SYNCID0000007076',\n",
       " 'SYNCID0000007100',\n",
       " 'SYNCID0000007397',\n",
       " 'SYNCID0000007422',\n",
       " 'SYNCID0000007457',\n",
       " 'SYNCID0000007472',\n",
       " 'SYNCID0000008315',\n",
       " 'SYNCID0000008393',\n",
       " 'SYNCID0000008416',\n",
       " 'SYNCID0000008608',\n",
       " 'SYNCID0000008862',\n",
       " 'SYNCID0000008933',\n",
       " 'SYNCID0000009229',\n",
       " 'SYNCID0000009372',\n",
       " 'SYNCID0000009375',\n",
       " 'SYNCID0000009790',\n",
       " 'SYNCID0000009903',\n",
       " 'SYNCID0000009942',\n",
       " 'SYNCID0000010006',\n",
       " 'SYNCID0000010269',\n",
       " 'SYNCID0000010561',\n",
       " 'SYNCID0000010688',\n",
       " 'SYNCID0000011232',\n",
       " 'SYNCID0000011244',\n",
       " 'SYNCID0000011384',\n",
       " 'SYNCID0000011632',\n",
       " 'SYNCID0000011752',\n",
       " 'SYNCID0000011888',\n",
       " 'SYNCID0000011993',\n",
       " 'SYNCID0000012608',\n",
       " 'SYNCID0000012919',\n",
       " 'SYNCID0000012961',\n",
       " 'SYNCID0000012993',\n",
       " 'SYNCID0000013482',\n",
       " 'SYNCID0000013561',\n",
       " 'SYNCID0000013855',\n",
       " 'SYNCID0000013980',\n",
       " 'SYNCID0000013990',\n",
       " 'SYNCID0000014274',\n",
       " 'SYNCID0000014439',\n",
       " 'SYNCID0000014609',\n",
       " 'SYNCID0000014781',\n",
       " 'SYNCID0000015120',\n",
       " 'SYNCID0000015178',\n",
       " 'SYNCID0000015260',\n",
       " 'SYNCID0000015673',\n",
       " 'SYNCID0000015738',\n",
       " 'SYNCID0000015767',\n",
       " 'SYNCID0000015977',\n",
       " 'SYNCID0000016324',\n",
       " 'SYNCID0000016471',\n",
       " 'SYNCID0000016569',\n",
       " 'SYNCID0000017010'}"
      ]
     },
     "execution_count": 184,
     "metadata": {},
     "output_type": "execute_result"
    }
   ],
   "source": [
    "highrisk_2_cust.difference(highrisk1_cust)"
   ]
  },
  {
   "cell_type": "code",
   "execution_count": 182,
   "metadata": {},
   "outputs": [
    {
     "data": {
      "text/plain": [
       "98"
      ]
     },
     "execution_count": 182,
     "metadata": {},
     "output_type": "execute_result"
    }
   ],
   "source": [
    "len(highrisk_2_cust.difference(highrisk1_old_cust))"
   ]
  },
  {
   "cell_type": "code",
   "execution_count": 185,
   "metadata": {},
   "outputs": [
    {
     "data": {
      "text/plain": [
       "{'SYNCID0000004609', 'SYNCID0000011533'}"
      ]
     },
     "execution_count": 185,
     "metadata": {},
     "output_type": "execute_result"
    }
   ],
   "source": [
    "highrisk1_cust.difference(highrisk1_old_cust)"
   ]
  }
 ],
 "metadata": {
  "kernelspec": {
   "display_name": ".venv",
   "language": "python",
   "name": "python3"
  },
  "language_info": {
   "codemirror_mode": {
    "name": "ipython",
    "version": 3
   },
   "file_extension": ".py",
   "mimetype": "text/x-python",
   "name": "python",
   "nbconvert_exporter": "python",
   "pygments_lexer": "ipython3",
   "version": "3.12.6"
  }
 },
 "nbformat": 4,
 "nbformat_minor": 2
}

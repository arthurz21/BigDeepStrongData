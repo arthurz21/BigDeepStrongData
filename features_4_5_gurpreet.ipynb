{
 "cells": [
  {
   "cell_type": "code",
   "execution_count": 68,
   "metadata": {},
   "outputs": [],
   "source": [
    "import pandas as pd\n",
    "from collections import Counter\n",
    "import numpy as np\n",
    "from tqdm import tqdm\n",
    "import matplotlib.pyplot as plt"
   ]
  },
  {
   "cell_type": "markdown",
   "metadata": {},
   "source": [
    "# Wire Transfers"
   ]
  },
  {
   "cell_type": "markdown",
   "metadata": {},
   "source": []
  },
  {
   "cell_type": "code",
   "execution_count": 69,
   "metadata": {},
   "outputs": [],
   "source": [
    "frac = 1\n",
    "wire = pd.read_csv('wire.csv', engine=\"pyarrow\")\n",
    "abm = pd.read_csv('abm.csv', engine=\"pyarrow\")\n",
    "cheque = pd.read_csv('cheque.csv', engine=\"pyarrow\").sample(frac = frac)\n",
    "eft = pd.read_csv('eft.csv', engine=\"pyarrow\").sample(frac = frac)\n",
    "emt = pd.read_csv('emt.csv', engine=\"pyarrow\").sample(frac = frac)\n",
    "card = pd.read_csv('card.csv', engine=\"pyarrow\").sample(frac = frac)"
   ]
  },
  {
   "cell_type": "code",
   "execution_count": 70,
   "metadata": {},
   "outputs": [],
   "source": [
    "kyc = pd.read_csv('kyc.csv', engine=\"pyarrow\")\n",
    "kyc_industry_codes = pd.read_csv('kyc_industry_codes.csv', engine=\"pyarrow\")"
   ]
  },
  {
   "cell_type": "code",
   "execution_count": 71,
   "metadata": {},
   "outputs": [
    {
     "name": "stdout",
     "output_type": "stream",
     "text": [
      "# of Wire transactions:  4758\n",
      "# of ABM transactions:  20657\n",
      "# of Cheque transactions:  262943\n",
      "# of EFT transactions:  488562\n",
      "# of EMT transactions:  161221\n",
      "# of Card transactions:  555956\n"
     ]
    }
   ],
   "source": [
    "print(\"# of Wire transactions: \", wire.shape[0])\n",
    "print(\"# of ABM transactions: \", abm.shape[0])\n",
    "print(\"# of Cheque transactions: \", cheque.shape[0])\n",
    "print(\"# of EFT transactions: \", eft.shape[0])\n",
    "print(\"# of EMT transactions: \", emt.shape[0])\n",
    "print(\"# of Card transactions: \", card.shape[0])"
   ]
  },
  {
   "cell_type": "code",
   "execution_count": 72,
   "metadata": {},
   "outputs": [],
   "source": [
    "dfs = {'wire': wire, 'abm': abm, 'cheque': cheque, 'eft': eft, 'emt': emt, 'card': card}\n",
    "\n",
    "#Sorting the DFs by date and Time\n",
    "for key in dfs.keys():\n",
    "    if key == 'cheque':\n",
    "        # dfs[key]['transaction_datetime'] = pd.to_datetime(dfs[key]['transaction_date'])\n",
    "        dfs[key] = dfs[key].sort_values(by = 'transaction_date', ascending = True)\n",
    "    else:\n",
    "        # dfs[key]['transaction_datetime'] = pd.to_datetime(dfs[key]['transaction_date'] + ' ' + dfs[key]['transaction_time'] )\n",
    "        dfs[key] = dfs[key].sort_values( by = ['transaction_date', 'transaction_time'] , ascending = [True, True])\n",
    "\n",
    "cheque = dfs['cheque']\n",
    "abm = dfs['abm']\n",
    "card = dfs['card']\n",
    "eft = dfs['eft']\n",
    "emt = dfs['emt']\n",
    "wire = dfs['wire']\n",
    "dfs = {'wire': wire, 'abm': abm, 'cheque': cheque, 'eft': eft, 'emt': emt, 'card': card}"
   ]
  },
  {
   "cell_type": "code",
   "execution_count": 73,
   "metadata": {},
   "outputs": [
    {
     "name": "stdout",
     "output_type": "stream",
     "text": [
      "merchant_category exists in  card\n"
     ]
    }
   ],
   "source": [
    "for dfs_key in dfs.keys():\n",
    "    # print(dfs_key)\n",
    "    # print(dfs[dfs_key].columns.values)\n",
    "    if \"merchant_category\" in dfs[dfs_key].columns.values:\n",
    "        print(\"merchant_category exists in \", dfs_key)\n",
    "    # print('\\n')"
   ]
  },
  {
   "cell_type": "code",
   "execution_count": 74,
   "metadata": {},
   "outputs": [],
   "source": [
    "#Collecting all unique customer IDs\n",
    "\n",
    "wire_customers = dfs['wire']['customer_id'].unique()\n",
    "abm_customers = dfs['abm']['customer_id'].unique()\n",
    "cheque_customers = dfs['cheque']['customer_id'].unique()\n",
    "eft_customers = dfs['eft']['customer_id'].unique()\n",
    "emt_customers = dfs['emt']['customer_id'].unique()\n",
    "card_customers = dfs['card']['customer_id'].unique()\n",
    "\n",
    "all_customers= list(set(np.concatenate((wire_customers, abm_customers, cheque_customers, eft_customers, emt_customers, card_customers), axis=0)))\n"
   ]
  },
  {
   "cell_type": "code",
   "execution_count": 75,
   "metadata": {},
   "outputs": [],
   "source": [
    "# Creating a DataFrame with all unique customer IDs to store the features\n",
    "customer_stats = pd.DataFrame(all_customers, columns=['customer_id'])"
   ]
  },
  {
   "cell_type": "code",
   "execution_count": 76,
   "metadata": {},
   "outputs": [],
   "source": [
    "# Collecting all the unique merchant IDs from the transactions and kyc data to create a merchant list\n",
    "# merchant_list = np.array(kyc_industry_codes['industry_code'].values)\n",
    "merchant_list = []\n",
    "# merchant_list_2 = []\n",
    "for df_key in dfs.keys():\n",
    "    if 'merchant_category' in dfs[df_key].columns:\n",
    "        dfs[df_key].loc[dfs[df_key]['merchant_category']=='other', 'merchant_category'] = 0\n",
    "        dfs[df_key]['merchant_category'] = dfs[df_key]['merchant_category'].astype('int')\n",
    "        merchant_list = np.unique(np.concatenate((merchant_list, dfs[df_key]['merchant_category'].values), axis=0))\n",
    "        # merchant_list_2 = np.unique(np.concatenate((merchant_list_2, dfs[df_key]['merchant_category'].values), axis=0))\n",
    "        "
   ]
  },
  {
   "cell_type": "code",
   "execution_count": 77,
   "metadata": {},
   "outputs": [
    {
     "data": {
      "text/plain": [
       "58"
      ]
     },
     "execution_count": 77,
     "metadata": {},
     "output_type": "execute_result"
    }
   ],
   "source": [
    "len(merchant_list)"
   ]
  },
  {
   "cell_type": "code",
   "execution_count": 78,
   "metadata": {},
   "outputs": [
    {
     "data": {
      "text/plain": [
       "array([   0., 4121., 4215., 4722., 4784., 4812., 4814., 4816., 4899.,\n",
       "       4900., 5039., 5045., 5047., 5085., 5200., 5211., 5251., 5300.,\n",
       "       5310., 5311., 5331., 5411., 5499., 5511., 5533., 5541., 5542.,\n",
       "       5651., 5655., 5691., 5712., 5732., 5734., 5812., 5814., 5815.,\n",
       "       5816., 5817., 5818., 5912., 5921., 5941., 5942., 5943., 5968.,\n",
       "       5999., 6300., 7011., 7311., 7372., 7399., 7523., 7538., 7542.,\n",
       "       8099., 8398., 8699., 9399.])"
      ]
     },
     "execution_count": 78,
     "metadata": {},
     "output_type": "execute_result"
    }
   ],
   "source": [
    "merchant_list"
   ]
  },
  {
   "cell_type": "code",
   "execution_count": 79,
   "metadata": {},
   "outputs": [],
   "source": [
    "# Function to divide the date range into weekly and monthly ranges\n",
    "def get_date_ranges(start_date, end_date):\n",
    "    # Convert the start and end date to datetime\n",
    "    start_date = pd.to_datetime(start_date)\n",
    "    end_date = pd.to_datetime(end_date)\n",
    "    start_date_week = start_date\n",
    "    end_date_week = end_date\n",
    "    \n",
    "    start_date_month = start_date\n",
    "    end_date_month = end_date\n",
    "    \n",
    "    # Adjust the start_date to the previous Monday if it's not already a Monday\n",
    "    if start_date_week.weekday() != 0:\n",
    "        start_date_week -= pd.Timedelta(days=start_date_week.weekday())\n",
    "    \n",
    "    # Adjust the end_date to the next Sunday if it's not already a Sunday\n",
    "    if end_date_week.weekday() != 6:\n",
    "        end_date_week += pd.Timedelta(days=(6 - end_date_week.weekday()))\n",
    "    \n",
    "    # Generate a range of dates from start_date to end_date with a frequency of 'W-MON' (weekly on Monday)\n",
    "    week_starts = pd.date_range(start=start_date_week, end=end_date_week, freq='W-MON')\n",
    "    \n",
    "    # Create a list of tuples with start and end dates for each week\n",
    "    weekly_ranges = []\n",
    "    for start in week_starts:\n",
    "        end = start + pd.Timedelta(days=6)\n",
    "        weekly_ranges.append((start, end))\n",
    "    \n",
    "    # Adjust the start_date to the first day of the month\n",
    "    start_date_month = start_date_month.replace(day=1)\n",
    "    \n",
    "    # Adjust the end_date to the last day of the month\n",
    "    if end_date_month.days_in_month != end_date_month.day:\n",
    "        end_date_month.replace(day=end_date_month.days_in_month)\n",
    "        \n",
    "    # end_date_month = (end_date_month + pd.offsets.MonthEnd(1)).normalize()\n",
    "    \n",
    "    # Generate a range of dates from start_date_month to end_date_month with a frequency of 'MS' (monthly start)\n",
    "    month_starts = pd.date_range(start=start_date_month, end=end_date_month, freq='MS')\n",
    "    \n",
    "    # Create a list of tuples with start and end dates for each month\n",
    "    monthly_ranges = []\n",
    "    for start in month_starts:\n",
    "        end = (start + pd.offsets.MonthEnd(1)).normalize()\n",
    "        monthly_ranges.append((start, end))\n",
    "    \n",
    "    return weekly_ranges, monthly_ranges"
   ]
  },
  {
   "cell_type": "code",
   "execution_count": 80,
   "metadata": {},
   "outputs": [],
   "source": [
    "# Create a dictionary to map industry codes to indices for merchnat category dissimilarity calculation\n",
    "industry_codes_dict = {str(int(code)): i for i, code in enumerate(merchant_list)}"
   ]
  },
  {
   "cell_type": "code",
   "execution_count": 81,
   "metadata": {},
   "outputs": [
    {
     "name": "stderr",
     "output_type": "stream",
     "text": [
      "100%|██████████| 16226/16226 [33:12<00:00,  8.14it/s]\n"
     ]
    }
   ],
   "source": [
    "df_customers = {'wire': wire_customers, 'abm': abm_customers, 'cheque': cheque_customers, 'eft': eft_customers, 'emt': emt_customers, 'card': card_customers}\n",
    "\n",
    "for customer in tqdm(all_customers):\n",
    "    for df_key in dfs.keys():\n",
    "        # Find the eariest and latest transaction date for the customer in this transaction type\n",
    "        df = dfs[df_key]\n",
    "       \n",
    "        # if customer == 'SYNCID0000006876':\n",
    "        #     print(\"SYNCID0000006876\")\n",
    "       \n",
    "        # Setting the features to 0 if the customer is not present in the transactions       \n",
    "        if customer not in df_customers[df_key]:\n",
    "            customer_stats.loc[customer_stats['customer_id'] == customer, df_key+'_max_weekly_trx'] = 0\n",
    "            customer_stats.loc[customer_stats['customer_id'] == customer, df_key+'_max_monthly_trx'] = 0\n",
    "            customer_stats.loc[customer_stats['customer_id'] == customer, df_key+'_max_weekely_trx_avg_val'] = 0\n",
    "            customer_stats.loc[customer_stats['customer_id'] == customer, df_key+'_max_monthly_trx_avg_val'] = 0\n",
    "            customer_stats.loc[customer_stats['customer_id'] == customer, df_key+'_ecommerce_activity'] = 0\n",
    "            customer_stats.loc[customer_stats['customer_id'] == customer, df_key+'_cash_activity'] = 0\n",
    "            \n",
    "            if 'merchant_category' in dfs[df_key].columns:\n",
    "                customer_stats.loc[customer_stats['customer_id'] == customer, df_key+'_merchant_categories'] = 0\n",
    "                customer_stats.loc[customer_stats['customer_id'] == customer, df_key+'_merchant_category_dissimilarity'] = 0\n",
    "                customer_stats.loc[customer_stats['customer_id'] == customer, df_key+'_merchant_category_dissimilarity_std'] = 0\n",
    "            \n",
    "            continue\n",
    "        \n",
    "        max_weekly_trx = 0\n",
    "        max_monthly_trx = 0\n",
    "        max_weekely_trx_avg_val = 0\n",
    "        max_monthly_trx_avg_val = 0\n",
    "        \n",
    "        customer_df = df[df['customer_id'] == customer]\n",
    "        \n",
    "        start_date = df['transaction_date'].min()\n",
    "        end_date = df['transaction_date'].max()\n",
    "        weekly_ranges, monthly_ranges = get_date_ranges(start_date, end_date)\n",
    "        \n",
    "        # Calculate the number of unique merchant categories for this customer\n",
    "        if 'merchant_category' in dfs[df_key].columns:\n",
    "                merchant_categories = Counter(customer_df['merchant_category'])\n",
    "                customer_stats.loc[customer_stats['customer_id'] == customer, df_key+'_merchant_categories'] = len(merchant_categories.keys())\n",
    "        # else:\n",
    "        #     customer_stats.loc[customer_stats['customer_id'] == customer, df_key+'_merchant_categories'] = 0\n",
    "        # Calculate the maximum number of transactions in a week and the average transaction value\n",
    "        merchant_vecs = np.zeros((len(weekly_ranges), len(industry_codes_dict.keys())))\n",
    "        \n",
    "        for i, (start, end) in enumerate(weekly_ranges):\n",
    "            period_df = customer_df[(customer_df['transaction_date'] >= pd.to_datetime(start).date()) & (customer_df['transaction_date'] <= pd.to_datetime(end).date())]\n",
    "            if len(period_df) > max_weekly_trx:\n",
    "                max_weekly_trx = len(period_df)\n",
    "                max_weekely_trx_avg_val = period_df['amount_cad'].mean()\n",
    "            \n",
    "            # Calculate the number of transactions for each merchant category and make a vector for each week for dissimilarity calculation           \n",
    "            merchant_category_flag = 0\n",
    "            if 'merchant_category' in df.columns:    \n",
    "                merchant_category_flag = 1\n",
    "                weekly_merchant_categories = Counter(period_df['merchant_category'])\n",
    "                for category in weekly_merchant_categories.keys():\n",
    "                    merchant_vecs[i, industry_codes_dict[str(category)]] = weekly_merchant_categories[category]\n",
    "\n",
    "        customer_stats.loc[customer_stats['customer_id'] == customer, df_key+'_max_weekly_trx'] = max_weekly_trx\n",
    "        customer_stats.loc[customer_stats['customer_id'] == customer, df_key+'_max_weekely_trx_avg_val'] = max_weekely_trx_avg_val\n",
    "    \n",
    "        # Calculate the dissimilarity between merchant categories in consecutive months and store the mean and standard deviation\n",
    "        non_zero_merchant_vecs = merchant_vecs[merchant_vecs.sum(axis=1) > 0]\n",
    "        if merchant_category_flag:\n",
    "            dissimilarity = np.zeros(non_zero_merchant_vecs.shape[0]-1)\n",
    "            for i in range(1,non_zero_merchant_vecs.shape[0]):\n",
    "                dissimilarity[i-1] = np.linalg.norm(non_zero_merchant_vecs[i] - non_zero_merchant_vecs[i-1])\n",
    "            \n",
    "            if len(dissimilarity) > 0:\n",
    "                customer_stats.loc[customer_stats['customer_id'] == customer, df_key+'_merchant_category_dissimilarity'] = dissimilarity.mean()\n",
    "                customer_stats.loc[customer_stats['customer_id'] == customer, df_key+'_merchant_category_dissimilarity_std'] = dissimilarity.std()\n",
    "            else:\n",
    "                customer_stats.loc[customer_stats['customer_id'] == customer, df_key+'_merchant_category_dissimilarity'] = 0\n",
    "                customer_stats.loc[customer_stats['customer_id'] == customer, df_key+'_merchant_category_dissimilarity_std'] = 0\n",
    "\n",
    "        # Doing the monthly calculations\n",
    "        for i,(start, end) in enumerate(monthly_ranges):\n",
    "            period_df = customer_df[(customer_df['transaction_date'] >= pd.to_datetime(start).date()) & (customer_df['transaction_date'] <= pd.to_datetime(end).date())]\n",
    "            \n",
    "            # Calculate the maximum number of transactions in a month and the average transaction value\n",
    "            if len(period_df) > max_monthly_trx:\n",
    "                max_monthly_trx = len(period_df)\n",
    "                max_monthly_trx_avg_val = period_df['amount_cad'].mean()\n",
    "\n",
    "        \n",
    "        # Store the maximum number of transactions and average transaction value for the month       \n",
    "        customer_stats.loc[customer_stats['customer_id'] == customer, df_key+'_max_monthly_trx'] = max_monthly_trx\n",
    "        customer_stats.loc[customer_stats['customer_id'] == customer, df_key+'_max_monthly_trx_avg_val'] = max_monthly_trx_avg_val\n",
    "        \n",
    "        \n",
    "        # Calculate the ecommerce activity of the customer  \n",
    "        if 'ecommerce_ind' in df.columns:\n",
    "            ecommerce_ind_dict = Counter(customer_df['ecommerce_ind'])\n",
    "            customer_stats.loc[customer_stats['customer_id'] == customer, df_key+'_ecommerce_activity'] = ecommerce_ind_dict[True]/len(customer_df)\n",
    "        else:\n",
    "            customer_stats.loc[customer_stats['customer_id'] == customer, df_key+'_ecommerce_activity'] = 0\n",
    "\n",
    "        #Calculate the percentage of transactions that cash transactions\n",
    "        if 'cash_indicator' in df.columns:\n",
    "            cash_ind_dict = Counter(customer_df['cash_indicator'])\n",
    "            customer_stats.loc[customer_stats['customer_id'] == customer, df_key+'_cash_activity'] = cash_ind_dict[True]/len(customer_df)\n",
    "        else:\n",
    "            customer_stats.loc[customer_stats['customer_id'] == customer, df_key+'_cash_activity'] = 0\n",
    "\n",
    "#save the customer stats to a csv file\n",
    "customer_stats.to_csv('customer_stats.csv', index=False)"
   ]
  },
  {
   "cell_type": "code",
   "execution_count": 4,
   "metadata": {},
   "outputs": [],
   "source": [
    "customer_stats = pd.read_csv('customer_stats.csv', engine=\"pyarrow\").sample(frac = frac)\n"
   ]
  }
 ],
 "metadata": {
  "kernelspec": {
   "display_name": ".venv",
   "language": "python",
   "name": "python3"
  },
  "language_info": {
   "codemirror_mode": {
    "name": "ipython",
    "version": 3
   },
   "file_extension": ".py",
   "mimetype": "text/x-python",
   "name": "python",
   "nbconvert_exporter": "python",
   "pygments_lexer": "ipython3",
   "version": "3.12.6"
  }
 },
 "nbformat": 4,
 "nbformat_minor": 2
}

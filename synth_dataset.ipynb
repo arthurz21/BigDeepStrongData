{
 "cells": [
  {
   "cell_type": "markdown",
   "metadata": {},
   "source": [
    "# Processing Synthetic Data to make it look like Competition Dataset"
   ]
  },
  {
   "cell_type": "code",
   "execution_count": 1,
   "metadata": {},
   "outputs": [],
   "source": [
    "import pandas as pd\n",
    "import numpy as np\n",
    "from tqdm import tqdm\n"
   ]
  },
  {
   "cell_type": "code",
   "execution_count": 2,
   "metadata": {},
   "outputs": [],
   "source": [
    "# # Load data only for calculating the proportion of credit and debit card transactions\n",
    "\n",
    "\n",
    "# frac = 1\n",
    "# wire = pd.read_csv('raw_data/wire.csv', engine=\"pyarrow\")\n",
    "# abm = pd.read_csv('raw_data/abm.csv', engine=\"pyarrow\")\n",
    "# cheque = pd.read_csv('raw_data/cheque.csv', engine=\"pyarrow\").sample(frac = frac)\n",
    "# eft = pd.read_csv('raw_data/eft.csv', engine=\"pyarrow\").sample(frac = frac)\n",
    "# emt = pd.read_csv('raw_data/emt.csv', engine=\"pyarrow\").sample(frac = frac)\n",
    "# card = pd.read_csv('raw_data/card.csv', engine=\"pyarrow\").sample(frac = frac)\n",
    "\n",
    "# # Preprocess data\n",
    "# # Make all amounts positive\n",
    "# card['amount_cad'] = np.abs(card['amount_cad'])\n",
    "# # Make debit and credit columns consistent across all dataframes\n",
    "# emt['debit_credit'] = emt['debit_credit'].apply(lambda x: 'debit' if x == 'D' else 'credit')\n",
    "\n",
    "# #making dictionary of all the competition transactions only for calculating the the debit and credit proportions\n",
    "# transactions = {\n",
    "#     'wire': wire,\n",
    "#     'abm': abm,\n",
    "#     'cheque': cheque,\n",
    "#     'eft': eft,\n",
    "#     'emt': emt,\n",
    "#     'card': card\n",
    "#     }\n",
    "\n",
    "# # calculate proportion of debit and credit transactions in the competition dataset for each format\n",
    "# # the same proportion will be used to generate unidirectional data from the bidirectional synthetic IBM data \n",
    "# for key, value in transactions.items():\n",
    "#     debit_transactions = len(value[value['debit_credit'] == 'debit'])\n",
    "#     credit_transactions = len(value[value['debit_credit'] == 'credit'])\n",
    "#     total_transactions = len(value)\n",
    "#     print(f'{key[:3]} \\t Debit % = {round(100*debit_transactions/total_transactions, 2)},\\tCredit % = {round(100*credit_transactions/total_transactions, 2)}')"
   ]
  },
  {
   "cell_type": "code",
   "execution_count": 2,
   "metadata": {},
   "outputs": [],
   "source": [
    "ibm_frac = 1\n",
    "ibm = pd.read_csv('synth_datasets/LI-Small_Trans.csv').sample(frac = ibm_frac)"
   ]
  },
  {
   "cell_type": "code",
   "execution_count": 4,
   "metadata": {},
   "outputs": [
    {
     "name": "stdout",
     "output_type": "stream",
     "text": [
      "# of unique transactions = 6924049\n",
      "# of unique transactions that are Cheque, ACH, Credit Card and Wire Payment Format Transactions = 5308695\n"
     ]
    }
   ],
   "source": [
    "print(f'# of unique transactions = {len(ibm)}')\n",
    "#extract the Cheque, ACH, Credit Card and Wire Payment Format Transactions from IBM dataset\n",
    "filtered_ibm = ibm[(ibm['Payment Format'] == 'Cheque') | (ibm['Payment Format'] == 'ACH') | (ibm['Payment Format'] == 'Credit Card') | (ibm['Payment Format'] == 'Wire')]\n",
    "filtered_ibm.reset_index(drop=True, inplace=True)\n",
    "print(f'# of unique transactions that are Cheque, ACH, Credit Card and Wire Payment Format Transactions = {len(filtered_ibm)}')\n"
   ]
  },
  {
   "cell_type": "code",
   "execution_count": 5,
   "metadata": {},
   "outputs": [],
   "source": [
    "# unique_accounts = filtered_ibm['Account'].unique()\n",
    "# cust_dict = {}\n",
    "# for cust in unique_accounts:\n",
    "#     cust_dict[cust] = 0\n",
    "    \n",
    "# for i in range(len(filtered_ibm)):\n",
    "#         cust_dict[filtered_ibm.loc[i,'Account' ]] += 1"
   ]
  },
  {
   "cell_type": "code",
   "execution_count": 6,
   "metadata": {},
   "outputs": [
    {
     "name": "stdout",
     "output_type": "stream",
     "text": [
      "10042B660\n"
     ]
    }
   ],
   "source": [
    "# # find the customer with the maximum number of transactions\n",
    "# max_cust = max(cust_dict, key=cust_dict.get)\n",
    "# print(max_cust)"
   ]
  },
  {
   "cell_type": "code",
   "execution_count": 7,
   "metadata": {},
   "outputs": [],
   "source": [
    "# Proportion of debit and credit transactions in the competition dataset\n",
    "deb_cred_proportion = {\n",
    "    'Cheque': 58.26,\n",
    "    'ACH':50.0,\n",
    "    'Credit Card': 97.56,\n",
    "    'Wire':55.63\n",
    "}"
   ]
  },
  {
   "cell_type": "code",
   "execution_count": 8,
   "metadata": {},
   "outputs": [],
   "source": [
    "#Define a random true/false generator with a given probability\n",
    "def random_generator(probability):\n",
    "    return np.random.random() < probability"
   ]
  },
  {
   "cell_type": "code",
   "execution_count": 9,
   "metadata": {},
   "outputs": [],
   "source": [
    "# get exchange rates for all currencies used in the dataset and store them in a dictionary\n",
    "# dictionary is used to convert all currency amounts to CAD\n",
    "import requests\n",
    "\n",
    "def get_exchange_rates():\n",
    "    url = \"https://api.exchangerate-api.com/v4/latest/CAD\"  # Using ExchangeRate-API\n",
    "    response = requests.get(url)\n",
    "    data = response.json()\n",
    "    \n",
    "    currency_list = ['US Dollar', 'Swiss Franc', 'Saudi Riyal', 'Euro',\n",
    "                     'Canadian Dollar', 'Rupee', 'Australian Dollar', 'Yuan', 'Ruble',\n",
    "                     'Bitcoin', 'Mexican Peso', 'Shekel', 'Brazil Real', 'UK Pound',\n",
    "                     'Yen']\n",
    "    \n",
    "    currency_map = {\n",
    "        'US Dollar': 'USD', 'Swiss Franc': 'CHF', 'Saudi Riyal': 'SAR', 'Euro': 'EUR',\n",
    "        'Canadian Dollar': 'CAD', 'Rupee': 'INR', 'Australian Dollar': 'AUD', 'Yuan': 'CNY',\n",
    "        'Ruble': 'RUB', 'Mexican Peso': 'MXN', 'Shekel': 'ILS',\n",
    "        'Brazil Real': 'BRL', 'UK Pound': 'GBP', 'Yen': 'JPY'\n",
    "    }\n",
    "    \n",
    "    exchange_rates = {}\n",
    "    for currency, code in currency_map.items():\n",
    "        rate = data['rates'].get(code, 'N/A')\n",
    "        if rate != 'N/A':\n",
    "            exchange_rates[currency] = round(1 / rate, 4)  # Convert from currency to CAD and round\n",
    "    \n",
    "    # Fetch Bitcoin exchange rate separately\n",
    "    btc_url = \"https://api.coindesk.com/v1/bpi/currentprice/CAD.json\"\n",
    "    btc_response = requests.get(btc_url)\n",
    "    btc_data = btc_response.json()\n",
    "    btc_rate = btc_data['bpi']['CAD']['rate_float']\n",
    "    exchange_rates['Bitcoin'] = round(btc_rate, 2)  # Higher precision for Bitcoin\n",
    "    \n",
    "    return exchange_rates\n"
   ]
  },
  {
   "cell_type": "code",
   "execution_count": 10,
   "metadata": {},
   "outputs": [],
   "source": [
    "# exchange_rates = get_exchange_rates()\n",
    "# print(exchange_rates)"
   ]
  },
  {
   "cell_type": "code",
   "execution_count": 11,
   "metadata": {},
   "outputs": [],
   "source": [
    "# Exchange rates as of 2025-01-31\n",
    "exchange_rates = {'US Dollar': 1.4451, \n",
    "                  'Swiss Franc': 1.5898, \n",
    "                  'Saudi Riyal': 0.3846, \n",
    "                  'Euro': 1.5038, \n",
    "                  'Canadian Dollar': 1.0, \n",
    "                  'Rupee': 0.0167, \n",
    "                  'Australian Dollar': 0.9009, \n",
    "                  'Yuan': 0.1988, \n",
    "                  'Ruble': 0.0147, \n",
    "                  'Mexican Peso': 0.0701, \n",
    "                  'Shekel': 0.4032, \n",
    "                  'Brazil Real': 0.2457, \n",
    "                  'UK Pound': 1.7953, \n",
    "                  'Yen': 0.0094, \n",
    "                  'Bitcoin': 148034.33\n",
    "                  }"
   ]
  },
  {
   "cell_type": "code",
   "execution_count": 12,
   "metadata": {},
   "outputs": [
    {
     "name": "stderr",
     "output_type": "stream",
     "text": [
      "100%|██████████| 5308695/5308695 [02:34<00:00, 34271.52it/s]\n"
     ]
    }
   ],
   "source": [
    "row_list = []\n",
    "for i in tqdm(range(len(filtered_ibm))):\n",
    "    true_or_false = random_generator(deb_cred_proportion[filtered_ibm['Payment Format'][i]]/100)\n",
    "    row = filtered_ibm.iloc[i]\n",
    "    if true_or_false: # True means the transaction is a debit transaction\n",
    "        amount_cad = row['Amount Paid'] * exchange_rates[row['Payment Currency']]\n",
    "        row_list.append({\n",
    "           'transaction_date': str(pd.Timestamp(row['Timestamp']).date()),\n",
    "           'transaction_time': str(pd.Timestamp(row['Timestamp']).time()),\n",
    "           'city': row['To Bank'], # The bank where the money if being sent to by a debit transaction by the customer\n",
    "           'currency': row['Receiving Currency'], # the currency in which the money is being received by an account on the other end of the transaction\n",
    "           'customer_id': row['Account'],\n",
    "           'amount_cad': amount_cad,\n",
    "           'debit_credit': 'debit',\n",
    "           'trx_type': row['Payment Format'],\n",
    "           'Is Laundering': row['Is Laundering'],\n",
    "            })\n",
    "    else: # False means the transaction is a credit transaction\n",
    "        amount_cad = row['Amount Received'] * exchange_rates[row['Receiving Currency']]\n",
    "        row_list.append({\n",
    "            'transaction_date': str(pd.Timestamp(row['Timestamp']).date()),\n",
    "            'transaction_time': str(pd.Timestamp(row['Timestamp']).time()),\n",
    "            'city': row['From Bank'], # The bank where the money is being received from by a credit transaction by the customer\n",
    "            'currency': row['Payment Currency'], # the currency in which the money is being sent by an account on the other end of the transaction\n",
    "            'customer_id': row['Account.1'],\n",
    "            'amount_cad': amount_cad,\n",
    "            'debit_credit': 'credit',\n",
    "            'trx_type': row['Payment Format'],\n",
    "            'Is Laundering': row['Is Laundering'],\n",
    "            })\n",
    "\n",
    "d_c_dataframe = pd.DataFrame(row_list)    "
   ]
  },
  {
   "cell_type": "code",
   "execution_count": 13,
   "metadata": {},
   "outputs": [],
   "source": [
    "#save the generated data to a csv file\n",
    "d_c_dataframe.to_csv('synth_training_data.csv', index=False)"
   ]
  },
  {
   "cell_type": "code",
   "execution_count": 14,
   "metadata": {},
   "outputs": [],
   "source": [
    "#load the generated data from the csv file\n",
    "# d_c_dataframe = pd.read_csv('synth_training_data.csv')"
   ]
  },
  {
   "cell_type": "code",
   "execution_count": 15,
   "metadata": {},
   "outputs": [
    {
     "name": "stdout",
     "output_type": "stream",
     "text": [
      "0.5337263727142821\n"
     ]
    }
   ],
   "source": [
    "# Percentage of fraudulent accounts in the dataset\n",
    "fraud_accounts = len((d_c_dataframe.loc[d_c_dataframe['Is Laundering'] == 1])['customer_id'].unique())\n",
    "total_accounts = len(d_c_dataframe['customer_id'].unique())\n",
    "fraud_percentage = fraud_accounts / total_accounts * 100\n",
    "print(fraud_percentage)"
   ]
  },
  {
   "cell_type": "code",
   "execution_count": 16,
   "metadata": {},
   "outputs": [
    {
     "name": "stdout",
     "output_type": "stream",
     "text": [
      "0.06274611745447799\n"
     ]
    }
   ],
   "source": [
    "# Percentage of fraudulent transactions in the dataset\n",
    "fraud_transactions = len(d_c_dataframe.loc[d_c_dataframe['Is Laundering'] == 1])\n",
    "total_transactions = len(d_c_dataframe)\n",
    "fraud_percentage = fraud_transactions / total_transactions * 100\n",
    "print(fraud_percentage)\n"
   ]
  },
  {
   "cell_type": "code",
   "execution_count": 17,
   "metadata": {},
   "outputs": [],
   "source": [
    "# Save the data in separate files for each payment format\n",
    "save_path = 'processed_synth_dataset/'\n",
    "for payment_format in d_c_dataframe['trx_type'].unique():\n",
    "    if payment_format == 'ACH':\n",
    "        d_c_dataframe[d_c_dataframe['trx_type'] == payment_format].drop(columns=['trx_type'], inplace=False).to_csv(save_path + 'ach_s.csv', index=False)\n",
    "    elif payment_format == 'Cheque':\n",
    "        d_c_dataframe[d_c_dataframe['trx_type'] == payment_format].drop(columns=['trx_type'], inplace=False).to_csv(save_path + 'cheque_s.csv', index=False)\n",
    "    elif payment_format == 'Credit Card':\n",
    "        d_c_dataframe[d_c_dataframe['trx_type'] == payment_format].drop(columns=['trx_type'], inplace=False).to_csv(save_path + 'card_s.csv', index=False)\n",
    "    elif payment_format == 'Wire':\n",
    "        d_c_dataframe[d_c_dataframe['trx_type'] == payment_format].drop(columns=['trx_type'], inplace=False).to_csv(save_path + 'wire_s.csv', index=False)\n",
    "        "
   ]
  },
  {
   "cell_type": "code",
   "execution_count": 18,
   "metadata": {},
   "outputs": [],
   "source": [
    "# Load the synthetic data\n",
    "ach_s = pd.read_csv(save_path + 'ach_s.csv')\n",
    "cheque_s = pd.read_csv(save_path + 'cheque_s.csv')\n",
    "card_s = pd.read_csv(save_path + 'card_s.csv')\n",
    "wire_s = pd.read_csv(save_path + 'wire_s.csv')\n"
   ]
  }
 ],
 "metadata": {
  "kernelspec": {
   "display_name": ".venv",
   "language": "python",
   "name": "python3"
  },
  "language_info": {
   "codemirror_mode": {
    "name": "ipython",
    "version": 3
   },
   "file_extension": ".py",
   "mimetype": "text/x-python",
   "name": "python",
   "nbconvert_exporter": "python",
   "pygments_lexer": "ipython3",
   "version": "3.12.6"
  }
 },
 "nbformat": 4,
 "nbformat_minor": 2
}
